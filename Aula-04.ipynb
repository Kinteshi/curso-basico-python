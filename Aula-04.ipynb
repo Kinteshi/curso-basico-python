{
 "metadata": {
  "language_info": {
   "codemirror_mode": {
    "name": "ipython",
    "version": 3
   },
   "file_extension": ".py",
   "mimetype": "text/x-python",
   "name": "python",
   "nbconvert_exporter": "python",
   "pygments_lexer": "ipython3",
   "version": "3.8.5-final"
  },
  "orig_nbformat": 2,
  "kernelspec": {
   "name": "python_defaultSpec_1599587546702",
   "display_name": "Python 3.8.5 64-bit"
  }
 },
 "nbformat": 4,
 "nbformat_minor": 2,
 "cells": [
  {
   "cell_type": "markdown",
   "metadata": {},
   "source": [
    "# Curso básico de Python\n",
    "Ministrado por: Jeferson Marques e João Victor Cangerana Rocha"
   ]
  },
  {
   "cell_type": "markdown",
   "metadata": {},
   "source": [
    "## Módulo: List Comprehension\n",
    "List comprehension é um conceito derivado do paradigma funcional sendo uma estratégia para gerar sequências processadas de elementos usando-se poucas linhas e mantendo o código descritivo. Não existe forma melhor de mostrar o funcionamento do que na prática.\n"
   ]
  },
  {
   "cell_type": "markdown",
   "metadata": {},
   "source": [
    "##### Exemplo 1: multiplicar elementos de uma lista"
   ]
  },
  {
   "cell_type": "code",
   "execution_count": null,
   "metadata": {
    "tags": []
   },
   "outputs": [],
   "source": [
    "# Classic\n",
    "ls = [1, 2, 3, 4, 5, 6, 7, 8, 9]\n",
    "print(lista)\n",
    "nls = []\n",
    "for n in ls:\n",
    "    nls.append(n * 2)\n",
    "print(nls)\n"
   ]
  },
  {
   "cell_type": "code",
   "execution_count": null,
   "metadata": {
    "tags": []
   },
   "outputs": [],
   "source": [
    "# List Comprehension\n",
    "print(ls)\n",
    "nls = [n*2 for n in ls]\n",
    "print(nls)"
   ]
  },
  {
   "cell_type": "markdown",
   "metadata": {},
   "source": [
    "Lists comprehension são uma forma de reduzir absurdamente o gasto de linhas e de aumentar a expressividade do código ao usar a poderosa modularização do python.  \n",
    "A lógica desse tipo de expressão é: \\[operation_on_item **for** item **in** sequence]. Seguindo esta lógica, vamos a mais alguns exemplos."
   ]
  },
  {
   "cell_type": "code",
   "execution_count": null,
   "metadata": {
    "tags": []
   },
   "outputs": [],
   "source": [
    "# Um curioso exemplo\n",
    "[print(n) for n in ls] # O retorno da função print é um None, mas a ação de IO ainda é realizada"
   ]
  },
  {
   "cell_type": "code",
   "execution_count": null,
   "metadata": {
    "tags": []
   },
   "outputs": [],
   "source": [
    "# LC com unpacking\n",
    "dct = {'um':1, 'dois':2, 'tres':3, 'quatro':4}\n",
    "print(dct.items())\n",
    "[k for k, _ in dct.items()]"
   ]
  },
  {
   "cell_type": "markdown",
   "metadata": {},
   "source": [
    "Também é possível usar a list comprehension como um filtro"
   ]
  },
  {
   "cell_type": "code",
   "execution_count": null,
   "metadata": {},
   "outputs": [],
   "source": [
    "# Filtro de números pares\n",
    "[n for n in ls if n%2==0]"
   ]
  },
  {
   "cell_type": "markdown",
   "metadata": {},
   "source": [
    "Nesse caso: \\[operation_on_item **for** item **in** sequence **if** condition]. O **item** fica disponível no escopo para a operação e para a condição."
   ]
  },
  {
   "cell_type": "markdown",
   "metadata": {},
   "source": [
    "## Módulo: NumPy \n",
    "NumPy é uma biblioteca do Python extremamente usada no campo de manipulação de dados e aprendizado de máquina devido à pletora de métodos matemáticos prontos para operar com qualquer sequência de dados de diversas formas."
   ]
  },
  {
   "cell_type": "markdown",
   "metadata": {},
   "source": [
    "### Introdução ao Numpy \n",
    "  \n"
   ]
  },
  {
   "cell_type": "code",
   "execution_count": null,
   "metadata": {},
   "outputs": [],
   "source": [
    "# importação da biblioteca\n",
    "import numpy as np"
   ]
  },
  {
   "cell_type": "code",
   "execution_count": null,
   "metadata": {},
   "outputs": [],
   "source": [
    "# Criação de um np.array vazio\n",
    "np.array([])"
   ]
  },
  {
   "cell_type": "code",
   "execution_count": null,
   "metadata": {},
   "outputs": [],
   "source": [
    "# Tipo do array\n",
    "type(np.array([]))"
   ]
  },
  {
   "cell_type": "code",
   "execution_count": null,
   "metadata": {},
   "outputs": [],
   "source": [
    "# Index\n",
    "arr = np.array([1, 2, 3])\n",
    "arr[1]"
   ]
  },
  {
   "cell_type": "code",
   "execution_count": null,
   "metadata": {},
   "outputs": [],
   "source": [
    "# Slicing\n",
    "arr[::-1]"
   ]
  },
  {
   "cell_type": "code",
   "execution_count": null,
   "metadata": {},
   "outputs": [],
   "source": [
    "# Item assignment\n",
    "arr[0] = 10\n",
    "arr"
   ]
  },
  {
   "cell_type": "code",
   "execution_count": null,
   "metadata": {},
   "outputs": [],
   "source": [
    "# len()\n",
    "len(arr)"
   ]
  },
  {
   "cell_type": "code",
   "execution_count": null,
   "metadata": {},
   "outputs": [],
   "source": [
    "# Append\n",
    "arr.append(1)"
   ]
  },
  {
   "cell_type": "markdown",
   "metadata": {},
   "source": [
    "#### Um `np.array` possui tamanho constante\n",
    "A primeira diferença que se nota a trabalhar com os arrays numpy é que seu tamanho é estático. No momento da sua criação é definido o tamanho máximo do array. Nesse exemplo o tamanho do array é 3 e isso não irá mudar. O erro apresentado mostra que um array não possui o método `append`. E isso faz o numpy ser tão bom quanto é.  \n",
    "O numpy é criado com extensões da linguagem C para que seja possível acelerar o processamento de largas quantidades de dados. As limitações encontradas para conseguir esse desempenho foram o tamanho estático e a inflexibilidade de tipo (apenas um tipo de dado por array).\n",
    "\n",
    "Mais informações:\n",
    "> https://towardsdatascience.com/how-fast-numpy-really-is-e9111df44347"
   ]
  },
  {
   "cell_type": "code",
   "execution_count": null,
   "metadata": {},
   "outputs": [],
   "source": [
    "# Uma alternativa\n",
    "np.append(arr, 1)"
   ]
  },
  {
   "cell_type": "code",
   "execution_count": null,
   "metadata": {},
   "outputs": [],
   "source": [
    "## Array original\n",
    "arr"
   ]
  },
  {
   "cell_type": "markdown",
   "metadata": {},
   "source": []
  },
  {
   "cell_type": "code",
   "execution_count": null,
   "metadata": {},
   "outputs": [],
   "source": [
    "# Instantiate \"empty\" array\n",
    "arr = np.zeros(10)\n",
    "arr"
   ]
  },
  {
   "cell_type": "code",
   "execution_count": null,
   "metadata": {
    "tags": []
   },
   "outputs": [],
   "source": [
    "# Outras formas e métodos de criação\n",
    "print(np.arange(start=1, stop=15, step=1))\n",
    "print(np.linspace(start=1, stop=15, num=5))\n",
    "print(np.random.randint(1, 10, 15))\n",
    "print(np.ones(5))\n",
    "print(np.empty(10))\n",
    "print(np.full(10, 7))"
   ]
  },
  {
   "cell_type": "code",
   "execution_count": null,
   "metadata": {},
   "outputs": [],
   "source": [
    "# Matrix\n",
    "arr = np.zeros(shape=(3, 2))\n",
    "arr"
   ]
  },
  {
   "cell_type": "code",
   "execution_count": null,
   "metadata": {},
   "outputs": [],
   "source": [
    "# Outra forma de criar uma matriz\n",
    "arr = np.array([[1, 2, 3], [4, 5, 6], [7, 8, 9]])\n",
    "arr"
   ]
  },
  {
   "cell_type": "code",
   "execution_count": null,
   "metadata": {},
   "outputs": [],
   "source": [
    "# Classic indexing\n",
    "arr[0][1]"
   ]
  },
  {
   "cell_type": "code",
   "execution_count": null,
   "metadata": {},
   "outputs": [],
   "source": [
    "# No NumPy é mais fácil\n",
    "arr[0, 1], arr[1, 1], arr[0, 2]"
   ]
  },
  {
   "cell_type": "code",
   "execution_count": null,
   "metadata": {},
   "outputs": [],
   "source": [
    "# Slicing?\n",
    "arr[::-1, ::3\n",
    "]"
   ]
  },
  {
   "cell_type": "markdown",
   "metadata": {},
   "source": [
    "#### Agora podemos começar o verdadeiro numpy\n",
    "\n",
    "Digamos que eu tenha um array e queira extrair dele apenas os números pares. Tenho as seguintes abordagens:"
   ]
  },
  {
   "cell_type": "code",
   "execution_count": null,
   "metadata": {},
   "outputs": [],
   "source": [
    "# Meu array\n",
    "arr = np.random.randint(1, 100, 15)\n",
    "arr"
   ]
  },
  {
   "cell_type": "code",
   "execution_count": null,
   "metadata": {},
   "outputs": [],
   "source": [
    "# Método for\n",
    "even_numbers = []\n",
    "for n in arr:\n",
    "    if n % 2 == 0:\n",
    "        even_numbers.append(n)\n",
    "even_numbers"
   ]
  },
  {
   "cell_type": "code",
   "execution_count": null,
   "metadata": {},
   "outputs": [],
   "source": [
    "# Consigo reduzir isso para uma list comprehension?\n",
    "even_numbers = [n for n in arr if n%2 == 0]\n",
    "even_numbers"
   ]
  },
  {
   "cell_type": "code",
   "execution_count": null,
   "metadata": {},
   "outputs": [],
   "source": [
    "# Um filter\n",
    "even_numbers = filter(lambda x: x%2 == 0, arr)\n",
    "list(even_numbers)"
   ]
  },
  {
   "cell_type": "code",
   "execution_count": null,
   "metadata": {},
   "outputs": [],
   "source": [
    "# O Numpy\n",
    "even_numbers = arr[arr%2==0]\n",
    "even_numbers"
   ]
  },
  {
   "cell_type": "code",
   "execution_count": null,
   "metadata": {},
   "outputs": [],
   "source": [
    "# Também posso filtrar os úmeros menores que 50\n",
    "arr[arr<50]"
   ]
  },
  {
   "cell_type": "markdown",
   "metadata": {},
   "source": [
    "Outra forma de repartir um array é com um vetor de index:"
   ]
  },
  {
   "cell_type": "code",
   "execution_count": null,
   "metadata": {
    "tags": []
   },
   "outputs": [],
   "source": [
    "# SLicing com listas\n",
    "print(arr)\n",
    "arr[[1, 2, 2, 4, 1]]"
   ]
  },
  {
   "cell_type": "code",
   "execution_count": null,
   "metadata": {
    "tags": []
   },
   "outputs": [],
   "source": [
    "# Slicing com lista de booleanos. Obs.: A lista de booleanos deve ter o mesmo tamanho do array\n",
    "arr = np.random.randint(1, 100, 5)\n",
    "print(arr)\n",
    "arr[[True, True, False, True, False]]"
   ]
  },
  {
   "cell_type": "markdown",
   "metadata": {},
   "source": [
    "##### Broadcasting\n",
    "Outro uso especial que nos ganha bastante tempo é o uso do broadcasting. Imagine que você tem uma lista e quer aplicar uma função ou operação sobre todos os elementos dela. Você pode fazer isso com o NumPy:"
   ]
  },
  {
   "cell_type": "code",
   "execution_count": null,
   "metadata": {
    "tags": []
   },
   "outputs": [],
   "source": [
    "print(arr)\n"
   ]
  },
  {
   "cell_type": "code",
   "execution_count": null,
   "metadata": {
    "tags": []
   },
   "outputs": [],
   "source": [
    "# Operações matemáticas\n",
    "print(arr*2)\n",
    "print(arr+2)\n"
   ]
  },
  {
   "cell_type": "code",
   "execution_count": null,
   "metadata": {
    "tags": []
   },
   "outputs": [],
   "source": [
    "# Condicionais\n",
    "print(arr>50)\n",
    "print(arr%2==0)"
   ]
  },
  {
   "cell_type": "code",
   "execution_count": null,
   "metadata": {},
   "outputs": [],
   "source": [
    "# Array assignement?\n",
    "arr[:] = 1\n",
    "arr"
   ]
  },
  {
   "cell_type": "code",
   "execution_count": null,
   "metadata": {
    "tags": []
   },
   "outputs": [],
   "source": [
    "# Slice assignement\n",
    "arr = np.random.randint(1, 50, 10)\n",
    "print(arr)\n",
    "arr[arr<25] = 0\n",
    "print(arr)"
   ]
  },
  {
   "cell_type": "markdown",
   "metadata": {},
   "source": [
    "Array broadcasting implica em espalhar ou propagar certas operações para um subconjunto de um array (ou até mesmo o conjunto completo)."
   ]
  },
  {
   "cell_type": "code",
   "execution_count": null,
   "metadata": {},
   "outputs": [],
   "source": [
    "# Também é possível replicar esse comportamento ao passar o Array para uma função\n",
    "(lambda x: x*2)(arr)"
   ]
  },
  {
   "cell_type": "markdown",
   "metadata": {},
   "source": [
    "#### Métodos e operações do numpy\n",
    "O NumPy é visivelmente poderoso e versátil e ainda nem chegamos nos métodos."
   ]
  },
  {
   "cell_type": "code",
   "execution_count": null,
   "metadata": {},
   "outputs": [],
   "source": [
    "arr1 = np.random.randint(1, 10, 10)\n",
    "arr2 = np.random.randint(1, 10, 10)\n",
    "arr1, arr2"
   ]
  },
  {
   "cell_type": "markdown",
   "metadata": {},
   "source": [
    "##### Operações"
   ]
  },
  {
   "cell_type": "code",
   "execution_count": null,
   "metadata": {},
   "outputs": [],
   "source": [
    "arr1 + arr2"
   ]
  },
  {
   "cell_type": "code",
   "execution_count": null,
   "metadata": {},
   "outputs": [],
   "source": [
    "arr1 * arr2"
   ]
  },
  {
   "cell_type": "code",
   "execution_count": null,
   "metadata": {},
   "outputs": [],
   "source": [
    "arr1 / arr2"
   ]
  },
  {
   "cell_type": "code",
   "execution_count": null,
   "metadata": {},
   "outputs": [],
   "source": [
    "arr1 - arr2"
   ]
  },
  {
   "cell_type": "markdown",
   "metadata": {},
   "source": [
    "##### Métodos"
   ]
  },
  {
   "cell_type": "code",
   "execution_count": null,
   "metadata": {
    "tags": []
   },
   "outputs": [],
   "source": [
    "# Máximo e mínimo de um array\n",
    "print(arr1)\n",
    "arr1.max(), arr1.min()"
   ]
  },
  {
   "cell_type": "code",
   "execution_count": null,
   "metadata": {},
   "outputs": [],
   "source": [
    "# Ordenar\n",
    "arr1.sort()\n",
    "arr1"
   ]
  },
  {
   "cell_type": "code",
   "execution_count": null,
   "metadata": {},
   "outputs": [],
   "source": [
    "# Misturar\n",
    "np.random.shuffle(arr1)\n",
    "arr1"
   ]
  },
  {
   "cell_type": "code",
   "execution_count": null,
   "metadata": {},
   "outputs": [],
   "source": [
    "# Média, Var, Std\n",
    "np.mean(arr1), np.var(arr1), np.std(arr1)"
   ]
  },
  {
   "cell_type": "code",
   "execution_count": null,
   "metadata": {},
   "outputs": [],
   "source": [
    "# Operações com matrizes\n",
    "arr1 = np.arange(1, 10)\n",
    "arr2 = np.arange(1, 16)\n",
    "arr1, arr2"
   ]
  },
  {
   "cell_type": "code",
   "execution_count": null,
   "metadata": {},
   "outputs": [],
   "source": [
    "# Reshape\n",
    "arr1 = np.reshape(arr1, newshape=(3, 3))\n",
    "arr1"
   ]
  },
  {
   "cell_type": "code",
   "execution_count": null,
   "metadata": {},
   "outputs": [],
   "source": [
    "arr2 = np.reshape(arr2, newshape=(3, 5))\n",
    "arr2"
   ]
  },
  {
   "cell_type": "markdown",
   "metadata": {},
   "source": [
    "Para as opreações simples os arrays precisam possuir as mesmas dimensões, para conseguir a dimensão podemos:"
   ]
  },
  {
   "cell_type": "code",
   "execution_count": null,
   "metadata": {},
   "outputs": [],
   "source": [
    "# dimensão\n",
    "arr1.shape, arr2.shape"
   ]
  },
  {
   "cell_type": "markdown",
   "metadata": {},
   "source": [
    "Se quisermos somar essas matrizes precisamos remover duas colunas da segunda"
   ]
  },
  {
   "cell_type": "code",
   "execution_count": null,
   "metadata": {},
   "outputs": [],
   "source": [
    "arr1 + arr2[:,:3]"
   ]
  },
  {
   "cell_type": "code",
   "execution_count": null,
   "metadata": {},
   "outputs": [],
   "source": [
    "# ou podemos escolher as colunas\n",
    "arr1 + arr2[:, [0, 4, 0]]"
   ]
  },
  {
   "cell_type": "code",
   "execution_count": null,
   "metadata": {},
   "outputs": [],
   "source": [
    "# Podemos fazer uma multipliação de matrizes\n",
    "np.dot(arr1, arr2)"
   ]
  },
  {
   "cell_type": "code",
   "execution_count": null,
   "metadata": {},
   "outputs": [],
   "source": [
    "# Também podemos fazer a média de uma matriz inteira\n",
    "np.mean(arr1), arr1"
   ]
  },
  {
   "cell_type": "code",
   "execution_count": null,
   "metadata": {},
   "outputs": [],
   "source": [
    "# Ou de apenas uma coluna dela\n",
    "np.mean(arr1[:, -1]), arr1[:, -1]"
   ]
  },
  {
   "cell_type": "code",
   "execution_count": null,
   "metadata": {},
   "outputs": [],
   "source": [
    "# Podemos transformar um array em uma lista:\n",
    "arr1.tolist()"
   ]
  },
  {
   "cell_type": "code",
   "execution_count": null,
   "metadata": {
    "tags": []
   },
   "outputs": [],
   "source": [
    "# Transpor uma matriz\n",
    "print(arr2.transpose())\n",
    "print(arr2)"
   ]
  },
  {
   "cell_type": "code",
   "execution_count": null,
   "metadata": {},
   "outputs": [],
   "source": [
    "# Matriz -> Lista\n",
    "arr1.flatten()"
   ]
  },
  {
   "cell_type": "code",
   "execution_count": null,
   "metadata": {},
   "outputs": [],
   "source": [
    "# Determinante\n",
    "np.linalg.det(arr1)"
   ]
  },
  {
   "cell_type": "markdown",
   "metadata": {},
   "source": [
    "O numpy possui uma vastidão de métodos e funções. A maioria pode nem chegar a ser usado para a maioria das pessoas, mas estão lá caso necessário. Uma pergunta que quase sempre consigo respostas positivas quando procuro é: \"Esse problema já foi resolvido em python?\".\n",
    "Por hoje é só."
   ]
  }
 ]
}