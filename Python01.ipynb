{
 "cells": [
  {
   "cell_type": "markdown",
   "metadata": {},
   "source": [
    "# Curso básico de Python\n",
    "Ministrado por: Jeferson Marques e João Victor Rocha"
   ]
  },
  {
   "cell_type": "markdown",
   "metadata": {},
   "source": [
    "## Módulo: Conceitos básicos do Python\n",
    "O Python é uma linguagem que preza pela simplicidade, flexibilidade e rapidez no desenvolvimento. A filosofia DRY (*Don't Repeat Yourself*) é difundida pela comunidade de programadores Python.  \n",
    "\n",
    "---\n",
    "\n",
    "Agora alguns pontos de entrada para o Python:  \n",
    "\n"
   ]
  },
  {
   "cell_type": "markdown",
   "metadata": {},
   "source": [
    "### Python é uma linguagem de programação interpretada, possui tipagem forte e dinâmica  \n",
    "No Python ao declarar uma variável não é necessário definir seu tipo devido a seu sistema de inferência de tipos e nem mesmo declarar antes de usar (em alguns casos, altamente dependente do problema que se quer resolver). Abaixo um exemplo de como declarar uma variável:"
   ]
  },
  {
   "cell_type": "code",
   "execution_count": 270,
   "metadata": {
    "tags": []
   },
   "outputs": [
    {
     "output_type": "stream",
     "name": "stdout",
     "text": "10\n<class 'int'>\n"
    }
   ],
   "source": [
    "var = 10\n",
    "print(var)\n",
    "print(type(var))"
   ]
  },
  {
   "cell_type": "markdown",
   "metadata": {
    "tags": []
   },
   "source": [
    "A declaração é feita ao somente dar um nome e atribuir um valor à variável. Uma forma de fazer a mesma declaração em C++ seria:\n",
    "  \n",
    "```int var = 10;```  \n",
    "\n",
    "> Note que também não é necessário colocar o `;` após uma linha ou comando.\n",
    "\n",
    "Em Python a declaração da variável passa pela inferência de tipo, que automaticamente atribui a ela o tipo que for mais adequado. Outro ponto importante é a tipagem dinâmica presente na linguagem. Um exemplo:"
   ]
  },
  {
   "cell_type": "code",
   "execution_count": 271,
   "metadata": {
    "tags": []
   },
   "outputs": [
    {
     "output_type": "stream",
     "name": "stdout",
     "text": "10\n<class 'int'>\nDez\n<class 'str'>\n"
    }
   ],
   "source": [
    "print(var)\n",
    "print(type(var))\n",
    "var = \"Dez\"\n",
    "print(var)\n",
    "print(type(var))"
   ]
  },
  {
   "cell_type": "markdown",
   "metadata": {},
   "source": [
    "Em linguagens com tipagem estática isso causaria um erro, mas não aqui. As variáveis assumem qualquer valor a qualquer momento independente do tipo de dado que se trata. Como tudo tem seu lado negativo: essa tratamento de variáveis pode causar confusão no código e levar a vários erros de tipo inesperados. Esses erros de tipo são causados pelo fato de que Python é uma linguagem de tipagem Forte. Isso implica que em Python não é possível fazer operações como a seguinte (que seria possível em JavaScript, por exemplo):"
   ]
  },
  {
   "cell_type": "code",
   "execution_count": 272,
   "metadata": {
    "tags": []
   },
   "outputs": [
    {
     "output_type": "error",
     "ename": "TypeError",
     "evalue": "unsupported operand type(s) for +: 'int' and 'str'",
     "traceback": [
      "\u001b[1;31m---------------------------------------------------------------------------\u001b[0m",
      "\u001b[1;31mTypeError\u001b[0m                                 Traceback (most recent call last)",
      "\u001b[1;32m<ipython-input-272-a513b428f60d>\u001b[0m in \u001b[0;36m<module>\u001b[1;34m\u001b[0m\n\u001b[1;32m----> 1\u001b[1;33m \u001b[0mprint\u001b[0m\u001b[1;33m(\u001b[0m\u001b[1;36m10\u001b[0m \u001b[1;33m+\u001b[0m \u001b[1;34m\"Dez\"\u001b[0m\u001b[1;33m)\u001b[0m\u001b[1;33m\u001b[0m\u001b[1;33m\u001b[0m\u001b[0m\n\u001b[0m",
      "\u001b[1;31mTypeError\u001b[0m: unsupported operand type(s) for +: 'int' and 'str'"
     ]
    }
   ],
   "source": [
    "print(10 + \"Dez\")"
   ]
  },
  {
   "cell_type": "markdown",
   "metadata": {},
   "source": [
    "Essa mensagem de erro diz: \"tipos de operando não suportados para '+': int e str\". O que é traduzido para: a operação de soma não aceita um inteiro e uma string. Generalizando mais: a operação de soma não aceita tipos diferentes devido a tipagem forte. Essa operação não sabe lidar com dois tipos diferentes, mas sabe lidar com strings:"
   ]
  },
  {
   "cell_type": "code",
   "execution_count": 273,
   "metadata": {},
   "outputs": [
    {
     "output_type": "execute_result",
     "data": {
      "text/plain": "'Eu consigo somar Strings'"
     },
     "metadata": {},
     "execution_count": 273
    }
   ],
   "source": [
    "\"Eu consigo somar\" + \" \" + \"Strings\""
   ]
  },
  {
   "cell_type": "markdown",
   "metadata": {},
   "source": [
    "## Módulo: Tipos do Python! \n",
    "\n",
    "Em Python existem os seguintes tipos elementares para a linguagem:\n",
    "- str \n",
    "- int\n",
    "- float\n",
    "- bool\n",
    "\n",
    "Vamos começar vendo como trabalhar com os tipos numéricos do Python!"
   ]
  },
  {
   "cell_type": "markdown",
   "metadata": {},
   "source": [
    "### Numéricos\n",
    "\n",
    "Existem dois tipos numéricos que são os principais usados em Python `int` e `float`. Um exemplo na tabela abaixo.\n",
    "\n",
    "|                        | Numeric |\n",
    "|------------------------|---------|\n",
    "| 1, 2, 10, 100, 1000    | int     |\n",
    "| 0.1, 2.5, 100.1, 0.001 | float   |"
   ]
  },
  {
   "cell_type": "markdown",
   "metadata": {},
   "source": [
    "#### Operações Aritméticas"
   ]
  },
  {
   "cell_type": "code",
   "execution_count": 274,
   "metadata": {},
   "outputs": [
    {
     "output_type": "execute_result",
     "data": {
      "text/plain": "15"
     },
     "metadata": {},
     "execution_count": 274
    }
   ],
   "source": [
    "# Soma\n",
    "10 + 5"
   ]
  },
  {
   "cell_type": "code",
   "execution_count": 275,
   "metadata": {},
   "outputs": [
    {
     "output_type": "execute_result",
     "data": {
      "text/plain": "5"
     },
     "metadata": {},
     "execution_count": 275
    }
   ],
   "source": [
    "# Subtração\n",
    "10 - 5"
   ]
  },
  {
   "cell_type": "code",
   "execution_count": 276,
   "metadata": {},
   "outputs": [
    {
     "output_type": "execute_result",
     "data": {
      "text/plain": "5.0"
     },
     "metadata": {},
     "execution_count": 276
    }
   ],
   "source": [
    "# Multiplicação\n",
    "0.5 * 10"
   ]
  },
  {
   "cell_type": "code",
   "execution_count": 277,
   "metadata": {},
   "outputs": [
    {
     "output_type": "execute_result",
     "data": {
      "text/plain": "5.0"
     },
     "metadata": {},
     "execution_count": 277
    }
   ],
   "source": [
    "# Divisão\n",
    "10 / 2"
   ]
  },
  {
   "cell_type": "code",
   "execution_count": 278,
   "metadata": {},
   "outputs": [
    {
     "output_type": "execute_result",
     "data": {
      "text/plain": "2"
     },
     "metadata": {},
     "execution_count": 278
    }
   ],
   "source": [
    "# Divisão inteira\n",
    "11 // 4"
   ]
  },
  {
   "cell_type": "code",
   "execution_count": 279,
   "metadata": {},
   "outputs": [
    {
     "output_type": "execute_result",
     "data": {
      "text/plain": "3"
     },
     "metadata": {},
     "execution_count": 279
    }
   ],
   "source": [
    "# Módulo ou Resto\n",
    "11 % 4"
   ]
  },
  {
   "cell_type": "code",
   "execution_count": 280,
   "metadata": {},
   "outputs": [
    {
     "output_type": "execute_result",
     "data": {
      "text/plain": "100"
     },
     "metadata": {},
     "execution_count": 280
    }
   ],
   "source": [
    "# Potência\n",
    "10 ** 2"
   ]
  },
  {
   "cell_type": "markdown",
   "metadata": {},
   "source": [
    "É possível fazer raízes dessa forma, também:"
   ]
  },
  {
   "cell_type": "code",
   "execution_count": 281,
   "metadata": {},
   "outputs": [
    {
     "output_type": "execute_result",
     "data": {
      "text/plain": "10.0"
     },
     "metadata": {},
     "execution_count": 281
    }
   ],
   "source": [
    "# Raiz quadrada\n",
    "100 ** 0.5"
   ]
  },
  {
   "cell_type": "code",
   "execution_count": 282,
   "metadata": {},
   "outputs": [
    {
     "output_type": "execute_result",
     "data": {
      "text/plain": "24"
     },
     "metadata": {},
     "execution_count": 282
    }
   ],
   "source": [
    "# Ordem de Operações segue o que normalmente acontece na matemática\n",
    "\n",
    "10 + 2 * 2 + 10"
   ]
  },
  {
   "cell_type": "code",
   "execution_count": 283,
   "metadata": {},
   "outputs": [
    {
     "output_type": "execute_result",
     "data": {
      "text/plain": "144"
     },
     "metadata": {},
     "execution_count": 283
    }
   ],
   "source": [
    "# Usar parênteses se o desejo for uma ordem diferente\n",
    "(10 + 2) * (2 + 10)"
   ]
  },
  {
   "cell_type": "code",
   "execution_count": 284,
   "metadata": {},
   "outputs": [
    {
     "output_type": "execute_result",
     "data": {
      "text/plain": "10"
     },
     "metadata": {},
     "execution_count": 284
    }
   ],
   "source": [
    "# Números absolutos\n",
    "abs(-10)"
   ]
  },
  {
   "cell_type": "code",
   "execution_count": 285,
   "metadata": {},
   "outputs": [
    {
     "output_type": "execute_result",
     "data": {
      "text/plain": "3.23"
     },
     "metadata": {},
     "execution_count": 285
    }
   ],
   "source": [
    "# Arrendodamento\n",
    "round(3.232793238, 2)"
   ]
  },
  {
   "cell_type": "markdown",
   "metadata": {},
   "source": [
    "#### Strings  \n",
    "Strings em Python são informações textuais que são tratadas como uma **sequência** de caracteres em uma ordem específica. A noção de sequência é importante para explicações futuras."
   ]
  },
  {
   "cell_type": "markdown",
   "metadata": {},
   "source": [
    "##### Criar uma string"
   ]
  },
  {
   "cell_type": "code",
   "execution_count": 286,
   "metadata": {},
   "outputs": [
    {
     "output_type": "execute_result",
     "data": {
      "text/plain": "'Isso é uma string'"
     },
     "metadata": {},
     "execution_count": 286
    }
   ],
   "source": [
    "'Isso é uma string'"
   ]
  },
  {
   "cell_type": "code",
   "execution_count": 287,
   "metadata": {},
   "outputs": [
    {
     "output_type": "execute_result",
     "data": {
      "text/plain": "'Também é uma string'"
     },
     "metadata": {},
     "execution_count": 287
    }
   ],
   "source": [
    "\"Também é uma string\""
   ]
  },
  {
   "cell_type": "markdown",
   "metadata": {},
   "source": [
    "Não existe absolutamente nenhuma diferença entre as duas strings. O tipo resultante é o mesmo. A convenção usada no Python é o uso de **'single quotes'**"
   ]
  },
  {
   "cell_type": "code",
   "execution_count": 288,
   "metadata": {},
   "outputs": [
    {
     "output_type": "execute_result",
     "data": {
      "text/plain": "\"I'm an apple\""
     },
     "metadata": {},
     "execution_count": 288
    }
   ],
   "source": [
    "# Para usar um apóstrofo no meio da string\n",
    "'I\\'m an apple'"
   ]
  },
  {
   "cell_type": "code",
   "execution_count": 289,
   "metadata": {},
   "outputs": [
    {
     "output_type": "execute_result",
     "data": {
      "text/plain": "\"I'm an apple\""
     },
     "metadata": {},
     "execution_count": 289
    }
   ],
   "source": [
    "# Ou você pode:\n",
    "\"I'm an apple\""
   ]
  },
  {
   "cell_type": "code",
   "execution_count": 290,
   "metadata": {},
   "outputs": [
    {
     "output_type": "execute_result",
     "data": {
      "text/plain": "'Esse último não é o \"certo\", mas esse aqui sim'"
     },
     "metadata": {},
     "execution_count": 290
    }
   ],
   "source": [
    "'Esse último não é o \"certo\", mas esse aqui sim'"
   ]
  },
  {
   "cell_type": "markdown",
   "metadata": {},
   "source": [
    "##### Print\n",
    "O Jupyter sempre faz o trabalho de printar a última saída que recebe do nosso código. A forma correta de se mostrar dados é usando a função de print."
   ]
  },
  {
   "cell_type": "code",
   "execution_count": 291,
   "metadata": {},
   "outputs": [
    {
     "output_type": "execute_result",
     "data": {
      "text/plain": "'Olá'"
     },
     "metadata": {},
     "execution_count": 291
    }
   ],
   "source": [
    "'Olá'"
   ]
  },
  {
   "cell_type": "code",
   "execution_count": 292,
   "metadata": {},
   "outputs": [
    {
     "output_type": "execute_result",
     "data": {
      "text/plain": "'Tudo bem?'"
     },
     "metadata": {},
     "execution_count": 292
    }
   ],
   "source": [
    "'Olá'\n",
    "'Tudo bem?'"
   ]
  },
  {
   "cell_type": "markdown",
   "metadata": {},
   "source": [
    "Apenas a última string foi mostrada. Agora vamos com o print."
   ]
  },
  {
   "cell_type": "code",
   "execution_count": 293,
   "metadata": {
    "tags": []
   },
   "outputs": [
    {
     "output_type": "stream",
     "name": "stdout",
     "text": "Olá\nTudo bem?\n"
    }
   ],
   "source": [
    "print('Olá')\n",
    "print('Tudo bem?')"
   ]
  },
  {
   "cell_type": "code",
   "execution_count": 294,
   "metadata": {
    "tags": []
   },
   "outputs": [
    {
     "output_type": "stream",
     "name": "stdout",
     "text": "Aqui também temos os caracteres especiais como o \n para novas linhas\n"
    }
   ],
   "source": [
    "print('Aqui também temos os caracteres especiais como o \\n para novas linhas')"
   ]
  },
  {
   "cell_type": "code",
   "execution_count": 295,
   "metadata": {
    "tags": []
   },
   "outputs": [
    {
     "output_type": "stream",
     "name": "stdout",
     "text": "Cada print\ncoloca um caractere de final de linha\nno fim de seu output\n"
    }
   ],
   "source": [
    "print('Cada print')\n",
    "print('coloca um caractere de final de linha')\n",
    "print('no fim de seu output')"
   ]
  },
  {
   "cell_type": "code",
   "execution_count": 296,
   "metadata": {
    "tags": []
   },
   "outputs": [
    {
     "output_type": "stream",
     "name": "stdout",
     "text": "Assim é permitido especificar qual será o último caractere printado"
    }
   ],
   "source": [
    "print('Assim ', end='')\n",
    "print('é permitido ', end='')\n",
    "print('especificar qual será o último caractere printado', end='')"
   ]
  },
  {
   "cell_type": "markdown",
   "metadata": {},
   "source": [
    "##### Basics\n",
    "Básicos para manipulação de strings: indexação"
   ]
  },
  {
   "cell_type": "markdown",
   "metadata": {},
   "source": [
    "Primeiramente vamos criar uma string e colocá-la em uma variável chamada `s`"
   ]
  },
  {
   "cell_type": "code",
   "execution_count": 297,
   "metadata": {},
   "outputs": [],
   "source": [
    "s = \"Minha String\""
   ]
  },
  {
   "cell_type": "markdown",
   "metadata": {},
   "source": [
    "Se quiser saber o tamanho da string a função `len` pode ajudar. Ela conta todos os caracteres e espaços em branco na string."
   ]
  },
  {
   "cell_type": "code",
   "execution_count": 298,
   "metadata": {},
   "outputs": [
    {
     "output_type": "execute_result",
     "data": {
      "text/plain": "12"
     },
     "metadata": {},
     "execution_count": 298
    }
   ],
   "source": [
    "len(s)"
   ]
  },
  {
   "cell_type": "markdown",
   "metadata": {},
   "source": [
    "Strings são sequências e no Python podemos usar a indexação para selecionar partes de uma sequência. Aqui são usados os os colchetes `[]` para fazer essas seleções.  \n",
    "  \n",
    "Alguns exemplos:"
   ]
  },
  {
   "cell_type": "code",
   "execution_count": 299,
   "metadata": {},
   "outputs": [
    {
     "output_type": "execute_result",
     "data": {
      "text/plain": "'Minha String'"
     },
     "metadata": {},
     "execution_count": 299
    }
   ],
   "source": [
    "# Uma string\n",
    "s"
   ]
  },
  {
   "cell_type": "code",
   "execution_count": 300,
   "metadata": {},
   "outputs": [
    {
     "output_type": "execute_result",
     "data": {
      "text/plain": "'M'"
     },
     "metadata": {},
     "execution_count": 300
    }
   ],
   "source": [
    "# Primeiro Elemento\n",
    "s[0]"
   ]
  },
  {
   "cell_type": "code",
   "execution_count": 301,
   "metadata": {},
   "outputs": [
    {
     "output_type": "execute_result",
     "data": {
      "text/plain": "'i'"
     },
     "metadata": {},
     "execution_count": 301
    }
   ],
   "source": [
    "# Segundo\n",
    "s[1]"
   ]
  },
  {
   "cell_type": "markdown",
   "metadata": {},
   "source": [
    "Na indexação podemos usar `:` dentro dos colchetes para fazer um *slicing*. Isto é: cortar a string de um ponto até outro."
   ]
  },
  {
   "cell_type": "code",
   "execution_count": 302,
   "metadata": {},
   "outputs": [
    {
     "output_type": "execute_result",
     "data": {
      "text/plain": "'inha String'"
     },
     "metadata": {},
     "execution_count": 302
    }
   ],
   "source": [
    "# Começar a string a partir do segundo elemento\n",
    "s[1:]"
   ]
  },
  {
   "cell_type": "code",
   "execution_count": 303,
   "metadata": {},
   "outputs": [
    {
     "output_type": "execute_result",
     "data": {
      "text/plain": "'Minh'"
     },
     "metadata": {},
     "execution_count": 303
    }
   ],
   "source": [
    "# Pegar tudo até a quarta posição\n",
    "s[:4]"
   ]
  },
  {
   "cell_type": "code",
   "execution_count": 304,
   "metadata": {},
   "outputs": [
    {
     "output_type": "execute_result",
     "data": {
      "text/plain": "'Minha String'"
     },
     "metadata": {},
     "execution_count": 304
    }
   ],
   "source": [
    "# Tudo\n",
    "s[:]"
   ]
  },
  {
   "cell_type": "code",
   "execution_count": 305,
   "metadata": {},
   "outputs": [
    {
     "output_type": "execute_result",
     "data": {
      "text/plain": "'g'"
     },
     "metadata": {},
     "execution_count": 305
    }
   ],
   "source": [
    "# Index negativo?\n",
    "s[-1] # última posição"
   ]
  },
  {
   "cell_type": "code",
   "execution_count": 306,
   "metadata": {},
   "outputs": [
    {
     "output_type": "execute_result",
     "data": {
      "text/plain": "'Minha Strin'"
     },
     "metadata": {},
     "execution_count": 306
    }
   ],
   "source": [
    "# index negativo no slice\n",
    "s[:-1]"
   ]
  },
  {
   "cell_type": "markdown",
   "metadata": {},
   "source": [
    "Também podemos especificar um tamanho de passo para o slice. Assim:"
   ]
  },
  {
   "cell_type": "code",
   "execution_count": 307,
   "metadata": {},
   "outputs": [
    {
     "output_type": "execute_result",
     "data": {
      "text/plain": "'Minha String'"
     },
     "metadata": {},
     "execution_count": 307
    }
   ],
   "source": [
    "# O padrão\n",
    "s[::1]"
   ]
  },
  {
   "cell_type": "code",
   "execution_count": 308,
   "metadata": {},
   "outputs": [
    {
     "output_type": "execute_result",
     "data": {
      "text/plain": "'MnaSrn'"
     },
     "metadata": {},
     "execution_count": 308
    }
   ],
   "source": [
    "# De dois em dois\n",
    "s[::2]"
   ]
  },
  {
   "cell_type": "code",
   "execution_count": 309,
   "metadata": {},
   "outputs": [
    {
     "output_type": "execute_result",
     "data": {
      "text/plain": "'gnirtS ahniM'"
     },
     "metadata": {},
     "execution_count": 309
    }
   ],
   "source": [
    "# Ao contrário?\n",
    "s[::-1]"
   ]
  },
  {
   "cell_type": "markdown",
   "metadata": {},
   "source": [
    "Em resumo, o slicing: `seq[início : fim : tam_passos]` "
   ]
  },
  {
   "cell_type": "markdown",
   "metadata": {},
   "source": [
    "##### Propriedades"
   ]
  },
  {
   "cell_type": "markdown",
   "metadata": {},
   "source": [
    "Imutabilidade  \n",
    "Quando strings são criadas seu conteúdo não pode mudar. Ações como a abaixo não são permitidas e irão gerar erros."
   ]
  },
  {
   "cell_type": "code",
   "execution_count": 310,
   "metadata": {},
   "outputs": [
    {
     "output_type": "execute_result",
     "data": {
      "text/plain": "'Minha String'"
     },
     "metadata": {},
     "execution_count": 310
    }
   ],
   "source": [
    "s"
   ]
  },
  {
   "cell_type": "code",
   "execution_count": 311,
   "metadata": {
    "tags": []
   },
   "outputs": [
    {
     "output_type": "error",
     "ename": "TypeError",
     "evalue": "'str' object does not support item assignment",
     "traceback": [
      "\u001b[1;31m---------------------------------------------------------------------------\u001b[0m",
      "\u001b[1;31mTypeError\u001b[0m                                 Traceback (most recent call last)",
      "\u001b[1;32m<ipython-input-311-cc37915722b8>\u001b[0m in \u001b[0;36m<module>\u001b[1;34m\u001b[0m\n\u001b[1;32m----> 1\u001b[1;33m \u001b[0ms\u001b[0m\u001b[1;33m[\u001b[0m\u001b[1;36m0\u001b[0m\u001b[1;33m]\u001b[0m \u001b[1;33m=\u001b[0m \u001b[1;34m'A'\u001b[0m\u001b[1;33m\u001b[0m\u001b[1;33m\u001b[0m\u001b[0m\n\u001b[0m",
      "\u001b[1;31mTypeError\u001b[0m: 'str' object does not support item assignment"
     ]
    }
   ],
   "source": [
    "s[0] = 'A'"
   ]
  },
  {
   "cell_type": "markdown",
   "metadata": {},
   "source": [
    "Não é possível mudar seus elementos, mas podemos concatená-las"
   ]
  },
  {
   "cell_type": "code",
   "execution_count": 312,
   "metadata": {},
   "outputs": [
    {
     "output_type": "execute_result",
     "data": {
      "text/plain": "'Minha String'"
     },
     "metadata": {},
     "execution_count": 312
    }
   ],
   "source": [
    "s"
   ]
  },
  {
   "cell_type": "code",
   "execution_count": 313,
   "metadata": {},
   "outputs": [
    {
     "output_type": "execute_result",
     "data": {
      "text/plain": "'Minha String está concatenada!'"
     },
     "metadata": {},
     "execution_count": 313
    }
   ],
   "source": [
    "s + ' está concatenada!'"
   ]
  },
  {
   "cell_type": "code",
   "execution_count": 314,
   "metadata": {},
   "outputs": [],
   "source": [
    "# Podemos substituir a string inteira, também\n",
    "s = s + ' está concatenada!'"
   ]
  },
  {
   "cell_type": "code",
   "execution_count": 315,
   "metadata": {},
   "outputs": [
    {
     "output_type": "execute_result",
     "data": {
      "text/plain": "'Minha String está concatenada!'"
     },
     "metadata": {},
     "execution_count": 315
    }
   ],
   "source": [
    "s"
   ]
  },
  {
   "cell_type": "markdown",
   "metadata": {},
   "source": [
    "Podemos replicar caractes ou sequências assim:"
   ]
  },
  {
   "cell_type": "code",
   "execution_count": 316,
   "metadata": {},
   "outputs": [
    {
     "output_type": "execute_result",
     "data": {
      "text/plain": "'xxxxxxxxxx'"
     },
     "metadata": {},
     "execution_count": 316
    }
   ],
   "source": [
    "'x' * 10"
   ]
  },
  {
   "cell_type": "code",
   "execution_count": 317,
   "metadata": {},
   "outputs": [
    {
     "output_type": "execute_result",
     "data": {
      "text/plain": "'Minha String está concatenada!Minha String está concatenada!Minha String está concatenada!Minha String está concatenada!Minha String está concatenada!Minha String está concatenada!Minha String está concatenada!Minha String está concatenada!Minha String está concatenada!Minha String está concatenada!'"
     },
     "metadata": {},
     "execution_count": 317
    }
   ],
   "source": [
    "s * 10"
   ]
  },
  {
   "cell_type": "markdown",
   "metadata": {},
   "source": [
    "##### Métodos\n",
    "Métodos são funções dentro de objetos. Strings são uma classe do Python e como toda classe possui alguns métodos definidos. Alguns exemplos:"
   ]
  },
  {
   "cell_type": "code",
   "execution_count": 318,
   "metadata": {},
   "outputs": [
    {
     "output_type": "execute_result",
     "data": {
      "text/plain": "'Minha String está concatenada!'"
     },
     "metadata": {},
     "execution_count": 318
    }
   ],
   "source": [
    "s"
   ]
  },
  {
   "cell_type": "code",
   "execution_count": 319,
   "metadata": {},
   "outputs": [
    {
     "output_type": "execute_result",
     "data": {
      "text/plain": "'MINHA STRING ESTÁ CONCATENADA!'"
     },
     "metadata": {},
     "execution_count": 319
    }
   ],
   "source": [
    "# Maiúsculas\n",
    "s.upper()"
   ]
  },
  {
   "cell_type": "code",
   "execution_count": 320,
   "metadata": {},
   "outputs": [
    {
     "output_type": "execute_result",
     "data": {
      "text/plain": "'Minha string está concatenada!'"
     },
     "metadata": {},
     "execution_count": 320
    }
   ],
   "source": [
    "# Capitalizar\n",
    "s.capitalize()"
   ]
  },
  {
   "cell_type": "code",
   "execution_count": 321,
   "metadata": {},
   "outputs": [
    {
     "output_type": "execute_result",
     "data": {
      "text/plain": "'minha string está concatenada!'"
     },
     "metadata": {},
     "execution_count": 321
    }
   ],
   "source": [
    "# Minúsculas\n",
    "s.lower()"
   ]
  },
  {
   "cell_type": "code",
   "execution_count": 322,
   "metadata": {},
   "outputs": [
    {
     "output_type": "execute_result",
     "data": {
      "text/plain": "['Minha', 'String', 'está', 'concatenada!']"
     },
     "metadata": {},
     "execution_count": 322
    }
   ],
   "source": [
    "# Separar a string por espaços em branco (por padrão)\n",
    "s.split()"
   ]
  },
  {
   "cell_type": "code",
   "execution_count": 323,
   "metadata": {},
   "outputs": [
    {
     "output_type": "execute_result",
     "data": {
      "text/plain": "['Mi', 'ha Stri', 'g está co', 'cate', 'ada!']"
     },
     "metadata": {},
     "execution_count": 323
    }
   ],
   "source": [
    "# Também é possível definir o separados\n",
    "s.split('n')"
   ]
  },
  {
   "cell_type": "markdown",
   "metadata": {},
   "source": [
    "##### Formatting\n",
    "Uma das maiores facilidades do Python é seu formatador de string. A sintaxe é simples e direta. Existem dois tipos principais: o método `.format` e as f-strings"
   ]
  },
  {
   "cell_type": "code",
   "execution_count": 324,
   "metadata": {
    "tags": []
   },
   "outputs": [
    {
     "output_type": "stream",
     "name": "stdout",
     "text": "Cada par de chaves é um valor que pode ser introduzido na string\nComo no exemplo: 10, Python! - Sou outro valor\n"
    }
   ],
   "source": [
    "# .format\n",
    "print('Cada par de chaves é um valor que pode ser introduzido na string') \n",
    "print('Como no exemplo: {}, {} - {}'.format(10, 'Python!', \"Sou outro valor\"))"
   ]
  },
  {
   "cell_type": "markdown",
   "metadata": {},
   "source": [
    "Essa mesma coisa pode ser feita de forma mais direta com as f-strings. Para criar uma é necessário uma sintaxe especial, assim:"
   ]
  },
  {
   "cell_type": "code",
   "execution_count": 325,
   "metadata": {
    "tags": []
   },
   "outputs": [
    {
     "output_type": "stream",
     "name": "stdout",
     "text": "Sou uma f-string, veja: 20, Python - 1\n"
    }
   ],
   "source": [
    "valor = 'Python'\n",
    "print(f'Sou uma f-string, veja: {10 + 10}, {valor} - {1}')"
   ]
  },
  {
   "cell_type": "markdown",
   "metadata": {},
   "source": [
    "Esse pequeno e solitário f é o que faz a string suportar a interpolação de variáveis."
   ]
  },
  {
   "cell_type": "code",
   "execution_count": 326,
   "metadata": {
    "tags": []
   },
   "outputs": [
    {
     "output_type": "stream",
     "name": "stdout",
     "text": "3.141592653589793\n3.142\n3.142\n"
    }
   ],
   "source": [
    "# Com a formatação é possível formatar a saída de números decimais\n",
    "from math import pi\n",
    "print(pi)\n",
    "print(f'{pi:.{4}}')\n",
    "print(f'{pi:.3f}')"
   ]
  },
  {
   "cell_type": "markdown",
   "metadata": {},
   "source": [
    "#### Listas\n",
    "Listas em python são sequencias de itens arbitrários e, diferentemente das strings, elas são mutáveis. Listas são construídas com colchetes e vírgulas separando seus elementos.  \n",
    "  \n",
    "Diferentemente de outras linguagens, listas em Python não possuem tamanho fixo e não possuem restrição de tipo, o que as tornam bastante flexíveis. Isso fica mais claro ao decorrer dos exemplos."
   ]
  },
  {
   "cell_type": "markdown",
   "metadata": {},
   "source": [
    "##### Criar uma lista"
   ]
  },
  {
   "cell_type": "code",
   "execution_count": 327,
   "metadata": {},
   "outputs": [
    {
     "output_type": "execute_result",
     "data": {
      "text/plain": "[1, 2, 3]"
     },
     "metadata": {},
     "execution_count": 327
    }
   ],
   "source": [
    "lista = [1, 2, 3]\n",
    "lista"
   ]
  },
  {
   "cell_type": "markdown",
   "metadata": {},
   "source": [
    "Uma lista pode conter diferentes tipos de dados"
   ]
  },
  {
   "cell_type": "code",
   "execution_count": 328,
   "metadata": {},
   "outputs": [
    {
     "output_type": "execute_result",
     "data": {
      "text/plain": "[1, 'uma string', 123]"
     },
     "metadata": {},
     "execution_count": 328
    }
   ],
   "source": [
    "lista = [1, 'uma string', 123]\n",
    "lista"
   ]
  },
  {
   "cell_type": "markdown",
   "metadata": {},
   "source": [
    "O método `len` funciona em qualquer sequencia"
   ]
  },
  {
   "cell_type": "code",
   "execution_count": 329,
   "metadata": {},
   "outputs": [
    {
     "output_type": "execute_result",
     "data": {
      "text/plain": "3"
     },
     "metadata": {},
     "execution_count": 329
    }
   ],
   "source": [
    "len(lista)"
   ]
  },
  {
   "cell_type": "markdown",
   "metadata": {},
   "source": [
    "##### Indexação\n",
    "Aqui a indexação funciona exatamente como nas strings"
   ]
  },
  {
   "cell_type": "code",
   "execution_count": 330,
   "metadata": {},
   "outputs": [],
   "source": [
    "lista = [1, 2, 3, 4, 5, 6, 7, 8, 9]"
   ]
  },
  {
   "cell_type": "code",
   "execution_count": 331,
   "metadata": {},
   "outputs": [
    {
     "output_type": "execute_result",
     "data": {
      "text/plain": "2"
     },
     "metadata": {},
     "execution_count": 331
    }
   ],
   "source": [
    "lista[1]"
   ]
  },
  {
   "cell_type": "code",
   "execution_count": 332,
   "metadata": {},
   "outputs": [
    {
     "output_type": "execute_result",
     "data": {
      "text/plain": "9"
     },
     "metadata": {},
     "execution_count": 332
    }
   ],
   "source": [
    "lista[-1]"
   ]
  },
  {
   "cell_type": "code",
   "execution_count": 333,
   "metadata": {},
   "outputs": [
    {
     "output_type": "execute_result",
     "data": {
      "text/plain": "[1, 2, 3]"
     },
     "metadata": {},
     "execution_count": 333
    }
   ],
   "source": [
    "lista[:3]"
   ]
  },
  {
   "cell_type": "code",
   "execution_count": 334,
   "metadata": {},
   "outputs": [
    {
     "output_type": "execute_result",
     "data": {
      "text/plain": "[4, 5, 6, 7, 8, 9]"
     },
     "metadata": {},
     "execution_count": 334
    }
   ],
   "source": [
    "lista[3:]"
   ]
  },
  {
   "cell_type": "code",
   "execution_count": 335,
   "metadata": {},
   "outputs": [
    {
     "output_type": "execute_result",
     "data": {
      "text/plain": "[1, 3, 5, 7, 9]"
     },
     "metadata": {},
     "execution_count": 335
    }
   ],
   "source": [
    "lista[::2]"
   ]
  },
  {
   "cell_type": "markdown",
   "metadata": {},
   "source": [
    "##### Concatenação\n",
    "As listas também podem ser concatenadas como as strings"
   ]
  },
  {
   "cell_type": "code",
   "execution_count": 336,
   "metadata": {},
   "outputs": [
    {
     "output_type": "execute_result",
     "data": {
      "text/plain": "[1, 2, 3, 4, 5, 6, 7, 8, 9]"
     },
     "metadata": {},
     "execution_count": 336
    }
   ],
   "source": [
    "lista"
   ]
  },
  {
   "cell_type": "code",
   "execution_count": 337,
   "metadata": {},
   "outputs": [
    {
     "output_type": "execute_result",
     "data": {
      "text/plain": "[1, 2, 3, 4, 5, 6, 7, 8, 9, 10, 11, 12]"
     },
     "metadata": {},
     "execution_count": 337
    }
   ],
   "source": [
    "lista + [10, 11, 12]"
   ]
  },
  {
   "cell_type": "code",
   "execution_count": 338,
   "metadata": {},
   "outputs": [
    {
     "output_type": "execute_result",
     "data": {
      "text/plain": "[1, 2, 3, 4, 5, 6, 7, 8, 9, 1, 2, 3, 4, 5, 6, 7, 8, 9]"
     },
     "metadata": {},
     "execution_count": 338
    }
   ],
   "source": [
    "# E também podem ser multiplicadas\n",
    "lista * 2"
   ]
  },
  {
   "cell_type": "markdown",
   "metadata": {},
   "source": [
    "Essas operações só tomam efeito se mudarmos o valor da variável"
   ]
  },
  {
   "cell_type": "code",
   "execution_count": 339,
   "metadata": {},
   "outputs": [
    {
     "output_type": "execute_result",
     "data": {
      "text/plain": "[1, 2, 3, 4, 5, 6, 7, 8, 9]"
     },
     "metadata": {},
     "execution_count": 339
    }
   ],
   "source": [
    "lista"
   ]
  },
  {
   "cell_type": "code",
   "execution_count": 340,
   "metadata": {},
   "outputs": [
    {
     "output_type": "execute_result",
     "data": {
      "text/plain": "[1, 2, 3, 4, 5, 6, 7, 8, 9, 1, 2, 3, 4, 5, 6, 7, 8, 9]"
     },
     "metadata": {},
     "execution_count": 340
    }
   ],
   "source": [
    "lista = lista*2\n",
    "lista"
   ]
  },
  {
   "cell_type": "markdown",
   "metadata": {},
   "source": [
    "##### Métodos\n",
    "Assim como as strings listas também são objetos e possuem métodos. Alguns métodos:"
   ]
  },
  {
   "cell_type": "code",
   "execution_count": 341,
   "metadata": {},
   "outputs": [],
   "source": [
    "lista = [1, 2, 3]"
   ]
  },
  {
   "cell_type": "code",
   "execution_count": 342,
   "metadata": {},
   "outputs": [],
   "source": [
    "# O método .append adiciona um item ao fim da lista\n",
    "lista.append(4)"
   ]
  },
  {
   "cell_type": "code",
   "execution_count": 343,
   "metadata": {},
   "outputs": [
    {
     "output_type": "execute_result",
     "data": {
      "text/plain": "[1, 2, 3, 4]"
     },
     "metadata": {},
     "execution_count": 343
    }
   ],
   "source": [
    "lista"
   ]
  },
  {
   "cell_type": "code",
   "execution_count": 344,
   "metadata": {},
   "outputs": [],
   "source": [
    "lista.append('Uma string')"
   ]
  },
  {
   "cell_type": "code",
   "execution_count": 345,
   "metadata": {},
   "outputs": [
    {
     "output_type": "execute_result",
     "data": {
      "text/plain": "[1, 2, 3, 4, 'Uma string']"
     },
     "metadata": {},
     "execution_count": 345
    }
   ],
   "source": [
    "lista"
   ]
  },
  {
   "cell_type": "code",
   "execution_count": 346,
   "metadata": {},
   "outputs": [
    {
     "output_type": "execute_result",
     "data": {
      "text/plain": "'Uma string'"
     },
     "metadata": {},
     "execution_count": 346
    }
   ],
   "source": [
    "# O método .pop retira um item da lista. Por padrão ele remove o último se nenhum outro for especificado\n",
    "lista.pop()"
   ]
  },
  {
   "cell_type": "code",
   "execution_count": 347,
   "metadata": {},
   "outputs": [
    {
     "output_type": "execute_result",
     "data": {
      "text/plain": "[1, 2, 3, 4]"
     },
     "metadata": {},
     "execution_count": 347
    }
   ],
   "source": [
    "lista"
   ]
  },
  {
   "cell_type": "code",
   "execution_count": 348,
   "metadata": {},
   "outputs": [
    {
     "output_type": "execute_result",
     "data": {
      "text/plain": "1"
     },
     "metadata": {},
     "execution_count": 348
    }
   ],
   "source": [
    "lista.pop(0)"
   ]
  },
  {
   "cell_type": "code",
   "execution_count": 349,
   "metadata": {},
   "outputs": [
    {
     "output_type": "execute_result",
     "data": {
      "text/plain": "[2, 3, 4]"
     },
     "metadata": {},
     "execution_count": 349
    }
   ],
   "source": [
    "lista"
   ]
  },
  {
   "cell_type": "code",
   "execution_count": 350,
   "metadata": {},
   "outputs": [],
   "source": [
    "lista = ['a', 'f', 'h', 't', 'b', 'v']"
   ]
  },
  {
   "cell_type": "code",
   "execution_count": 351,
   "metadata": {},
   "outputs": [
    {
     "output_type": "execute_result",
     "data": {
      "text/plain": "['a', 'b', 'f', 'h', 't', 'v']"
     },
     "metadata": {},
     "execution_count": 351
    }
   ],
   "source": [
    "# Podemos usar os métodos .sort e .reverse para mudar a ordem da lista\n",
    "lista.sort()\n",
    "lista"
   ]
  },
  {
   "cell_type": "code",
   "execution_count": 352,
   "metadata": {},
   "outputs": [
    {
     "output_type": "execute_result",
     "data": {
      "text/plain": "['v', 't', 'h', 'f', 'b', 'a']"
     },
     "metadata": {},
     "execution_count": 352
    }
   ],
   "source": [
    "lista.reverse()\n",
    "lista"
   ]
  },
  {
   "cell_type": "code",
   "execution_count": 353,
   "metadata": {},
   "outputs": [
    {
     "output_type": "execute_result",
     "data": {
      "text/plain": "[1, 2, 3, 4, 5]"
     },
     "metadata": {},
     "execution_count": 353
    }
   ],
   "source": [
    "# O método .extend pode ser usado para concatenar listas\n",
    "lista = [1, 2, 3]\n",
    "lista.extend([4, 5])\n",
    "lista"
   ]
  },
  {
   "cell_type": "code",
   "execution_count": 354,
   "metadata": {},
   "outputs": [
    {
     "output_type": "error",
     "ename": "SyntaxError",
     "evalue": "invalid syntax (<ipython-input-354-7f19afec4e9d>, line 2)",
     "traceback": [
      "\u001b[1;36m  File \u001b[1;32m\"<ipython-input-354-7f19afec4e9d>\"\u001b[1;36m, line \u001b[1;32m2\u001b[0m\n\u001b[1;33m    Podemos aninhar listas dentro de listas para fazer matrizes n-dimensionais\u001b[0m\n\u001b[1;37m            ^\u001b[0m\n\u001b[1;31mSyntaxError\u001b[0m\u001b[1;31m:\u001b[0m invalid syntax\n"
     ]
    }
   ],
   "source": [
    "##### Matrizes\n",
    "Podemos aninhar listas dentro de listas para fazer matrizes n-dimensionais"
   ]
  },
  {
   "cell_type": "code",
   "execution_count": 355,
   "metadata": {},
   "outputs": [],
   "source": [
    "# Uma matriz bidimensional\n",
    "l1 = [1, 2, 3]\n",
    "l2 = [4, 5, 6]\n",
    "l3 = [7, 8, 9]\n",
    "matriz = [l1, l2, l3]"
   ]
  },
  {
   "cell_type": "code",
   "execution_count": 356,
   "metadata": {},
   "outputs": [
    {
     "output_type": "execute_result",
     "data": {
      "text/plain": "[[1, 2, 3], [4, 5, 6], [7, 8, 9]]"
     },
     "metadata": {},
     "execution_count": 356
    }
   ],
   "source": [
    "matriz"
   ]
  },
  {
   "cell_type": "markdown",
   "metadata": {},
   "source": [
    "Podemos acessar linhas e elementos da matriz com o indexing:\n"
   ]
  },
  {
   "cell_type": "code",
   "execution_count": 357,
   "metadata": {},
   "outputs": [
    {
     "output_type": "execute_result",
     "data": {
      "text/plain": "[1, 2, 3]"
     },
     "metadata": {},
     "execution_count": 357
    }
   ],
   "source": [
    "# Uma linha\n",
    "matriz[0]"
   ]
  },
  {
   "cell_type": "code",
   "execution_count": 358,
   "metadata": {},
   "outputs": [
    {
     "output_type": "execute_result",
     "data": {
      "text/plain": "1"
     },
     "metadata": {},
     "execution_count": 358
    }
   ],
   "source": [
    "# Um elemento\n",
    "matriz[0][0]"
   ]
  },
  {
   "cell_type": "markdown",
   "metadata": {},
   "source": [
    "#### Tuplas\n",
    "Tuplas em Python são muito similares a listas, mas assim como as strings essas são imutáveis e possuem tamanho fixado após sua criação."
   ]
  },
  {
   "cell_type": "markdown",
   "metadata": {},
   "source": [
    "##### Criação\n",
    "Para criar uma tupla é usado um par de parênteses:"
   ]
  },
  {
   "cell_type": "code",
   "execution_count": 359,
   "metadata": {},
   "outputs": [
    {
     "output_type": "execute_result",
     "data": {
      "text/plain": "(1, 2, 3)"
     },
     "metadata": {},
     "execution_count": 359
    }
   ],
   "source": [
    "t = (1, 2, 3)\n",
    "t"
   ]
  },
  {
   "cell_type": "code",
   "execution_count": 360,
   "metadata": {},
   "outputs": [
    {
     "output_type": "execute_result",
     "data": {
      "text/plain": "3"
     },
     "metadata": {},
     "execution_count": 360
    }
   ],
   "source": [
    "# Tupla é uma sequencia\n",
    "len(t)"
   ]
  },
  {
   "cell_type": "code",
   "execution_count": 361,
   "metadata": {},
   "outputs": [
    {
     "output_type": "execute_result",
     "data": {
      "text/plain": "(1, 'um')"
     },
     "metadata": {},
     "execution_count": 361
    }
   ],
   "source": [
    "# Tuplas são flexíveis\n",
    "t = (1, \"um\")\n",
    "t"
   ]
  },
  {
   "cell_type": "code",
   "execution_count": 362,
   "metadata": {},
   "outputs": [
    {
     "output_type": "execute_result",
     "data": {
      "text/plain": "1"
     },
     "metadata": {},
     "execution_count": 362
    }
   ],
   "source": [
    "# Tuplas podem ser indexadas\n",
    "t[0]"
   ]
  },
  {
   "cell_type": "code",
   "execution_count": 363,
   "metadata": {},
   "outputs": [
    {
     "output_type": "error",
     "ename": "TypeError",
     "evalue": "'tuple' object does not support item assignment",
     "traceback": [
      "\u001b[1;31m---------------------------------------------------------------------------\u001b[0m",
      "\u001b[1;31mTypeError\u001b[0m                                 Traceback (most recent call last)",
      "\u001b[1;32m<ipython-input-363-e86749bec29b>\u001b[0m in \u001b[0;36m<module>\u001b[1;34m\u001b[0m\n\u001b[0;32m      1\u001b[0m \u001b[1;31m# Tuplas são imutáveis\u001b[0m\u001b[1;33m\u001b[0m\u001b[1;33m\u001b[0m\u001b[1;33m\u001b[0m\u001b[0m\n\u001b[1;32m----> 2\u001b[1;33m \u001b[0mt\u001b[0m\u001b[1;33m[\u001b[0m\u001b[1;36m0\u001b[0m\u001b[1;33m]\u001b[0m \u001b[1;33m=\u001b[0m \u001b[1;36m2\u001b[0m\u001b[1;33m\u001b[0m\u001b[1;33m\u001b[0m\u001b[0m\n\u001b[0m",
      "\u001b[1;31mTypeError\u001b[0m: 'tuple' object does not support item assignment"
     ]
    }
   ],
   "source": [
    "# Tuplas são imutáveis\n",
    "t[0] = 2"
   ]
  },
  {
   "cell_type": "code",
   "execution_count": 364,
   "metadata": {},
   "outputs": [
    {
     "output_type": "error",
     "ename": "AttributeError",
     "evalue": "'tuple' object has no attribute 'append'",
     "traceback": [
      "\u001b[1;31m---------------------------------------------------------------------------\u001b[0m",
      "\u001b[1;31mAttributeError\u001b[0m                            Traceback (most recent call last)",
      "\u001b[1;32m<ipython-input-364-058f5e78560f>\u001b[0m in \u001b[0;36m<module>\u001b[1;34m\u001b[0m\n\u001b[0;32m      1\u001b[0m \u001b[1;31m# Tuplas não possuem o método .append e não podem crescer\u001b[0m\u001b[1;33m\u001b[0m\u001b[1;33m\u001b[0m\u001b[1;33m\u001b[0m\u001b[0m\n\u001b[1;32m----> 2\u001b[1;33m \u001b[0mt\u001b[0m\u001b[1;33m.\u001b[0m\u001b[0mappend\u001b[0m\u001b[1;33m(\u001b[0m\u001b[1;34m\"Dois\"\u001b[0m\u001b[1;33m)\u001b[0m\u001b[1;33m\u001b[0m\u001b[1;33m\u001b[0m\u001b[0m\n\u001b[0m",
      "\u001b[1;31mAttributeError\u001b[0m: 'tuple' object has no attribute 'append'"
     ]
    }
   ],
   "source": [
    "# Tuplas não possuem o método .append e não podem crescer\n",
    "t.append(\"Dois\")"
   ]
  },
  {
   "cell_type": "markdown",
   "metadata": {},
   "source": [
    "#### Sets\n",
    "Sets podem ser vistos como uma coleção de ítens únicos. Esse tipo de dado pode ser construído com a função `set()`. Vamos a alguns exemplos "
   ]
  },
  {
   "cell_type": "code",
   "execution_count": 365,
   "metadata": {},
   "outputs": [],
   "source": [
    "# Criando um set vazio\n",
    "s = set()"
   ]
  },
  {
   "cell_type": "code",
   "execution_count": 366,
   "metadata": {},
   "outputs": [],
   "source": [
    "# Adicionando um item ao set\n",
    "s.add(1)"
   ]
  },
  {
   "cell_type": "code",
   "execution_count": 367,
   "metadata": {},
   "outputs": [
    {
     "output_type": "execute_result",
     "data": {
      "text/plain": "{1}"
     },
     "metadata": {},
     "execution_count": 367
    }
   ],
   "source": [
    "s"
   ]
  },
  {
   "cell_type": "code",
   "execution_count": 368,
   "metadata": {},
   "outputs": [
    {
     "output_type": "execute_result",
     "data": {
      "text/plain": "{1, 2}"
     },
     "metadata": {},
     "execution_count": 368
    }
   ],
   "source": [
    "# Adicionando mais um elemento\n",
    "s.add(2)\n",
    "s"
   ]
  },
  {
   "cell_type": "code",
   "execution_count": 369,
   "metadata": {},
   "outputs": [
    {
     "output_type": "execute_result",
     "data": {
      "text/plain": "{1, 2}"
     },
     "metadata": {},
     "execution_count": 369
    }
   ],
   "source": [
    "# Adicionando outro '1'\n",
    "s.add(1)\n",
    "s"
   ]
  },
  {
   "cell_type": "markdown",
   "metadata": {},
   "source": [
    "O conjunto não mudou? Isso acontece porque o set é um conjunto de valores únicos, como dito anteriormente. Sets não duplicam elementos já presentes dentro deles."
   ]
  },
  {
   "cell_type": "code",
   "execution_count": 370,
   "metadata": {},
   "outputs": [
    {
     "output_type": "execute_result",
     "data": {
      "text/plain": "{1, 2, 3, 4}"
     },
     "metadata": {},
     "execution_count": 370
    }
   ],
   "source": [
    "# A função set pode ter como argumento uma lista\n",
    "l = [1, 1, 1, 2, 2, 2, 3, 3, 3, 4, 4, 4]\n",
    "set(l)"
   ]
  },
  {
   "cell_type": "markdown",
   "metadata": {},
   "source": [
    "#### Dictionaries\n",
    "Dicts podem ser vistos como um mapeamento ou uma tabela hash onde elementos são guardados e referenciados por uma chave. (Em sequencias elementos são referenciados por sua posição)  \n",
    "Um elemento de um dict consiste em uma chave e um valor associado a ela."
   ]
  },
  {
   "cell_type": "markdown",
   "metadata": {},
   "source": [
    "##### Construindo um dicionário"
   ]
  },
  {
   "cell_type": "code",
   "execution_count": 371,
   "metadata": {},
   "outputs": [],
   "source": [
    "# Criar um dict com pares de chaves e ':' para montar um par chave:valor\n",
    "d = {'chave1':'valor1', 'chave2':'valor2'}"
   ]
  },
  {
   "cell_type": "code",
   "execution_count": 372,
   "metadata": {},
   "outputs": [
    {
     "output_type": "execute_result",
     "data": {
      "text/plain": "'valor2'"
     },
     "metadata": {},
     "execution_count": 372
    }
   ],
   "source": [
    "# Valores são referenciados pela chave\n",
    "d['chave2']"
   ]
  },
  {
   "cell_type": "code",
   "execution_count": 373,
   "metadata": {},
   "outputs": [
    {
     "output_type": "execute_result",
     "data": {
      "text/plain": "{'chave1': 'valor1', 'chave2': 'IFG'}"
     },
     "metadata": {},
     "execution_count": 373
    }
   ],
   "source": [
    "# Podemos mudar os valores de uma chave\n",
    "d['chave2'] = 'IFG'\n",
    "d"
   ]
  },
  {
   "cell_type": "code",
   "execution_count": 374,
   "metadata": {},
   "outputs": [
    {
     "output_type": "execute_result",
     "data": {
      "text/plain": "{'chave1': 'valor1', 'chave2': 'IFG', 'novo_elem': 'new'}"
     },
     "metadata": {},
     "execution_count": 374
    }
   ],
   "source": [
    "# É possível adicionar novos elementos de uma forma simples\n",
    "d['novo_elem'] = 'new'\n",
    "d"
   ]
  },
  {
   "cell_type": "code",
   "execution_count": 375,
   "metadata": {},
   "outputs": [
    {
     "output_type": "execute_result",
     "data": {
      "text/plain": "{'chave1': 'valor1',\n 'chave2': 'IFG',\n 'novo_elem': 'new',\n 'flex1': 1,\n 'flex2': [1, 2, 3]}"
     },
     "metadata": {},
     "execution_count": 375
    }
   ],
   "source": [
    "# Dicts também são muito flexíveis\n",
    "d['flex1'] = 1\n",
    "d['flex2'] = [1, 2, 3]\n",
    "d"
   ]
  },
  {
   "cell_type": "code",
   "execution_count": 376,
   "metadata": {},
   "outputs": [
    {
     "output_type": "execute_result",
     "data": {
      "text/plain": "{'chave1': 'valor1',\n 'chave2': 'IFG',\n 'novo_elem': 'new',\n 'flex1': 1,\n 'flex2': [1, 2, 3],\n 'nested': {'subchave': 'valor'}}"
     },
     "metadata": {},
     "execution_count": 376
    }
   ],
   "source": [
    "# dicts também podem ser aninhados\n",
    "d['nested'] = {'subchave':'valor'}\n",
    "d"
   ]
  },
  {
   "cell_type": "code",
   "execution_count": 377,
   "metadata": {},
   "outputs": [
    {
     "output_type": "execute_result",
     "data": {
      "text/plain": "'valor'"
     },
     "metadata": {},
     "execution_count": 377
    }
   ],
   "source": [
    "d['nested']['subchave']"
   ]
  },
  {
   "cell_type": "markdown",
   "metadata": {},
   "source": [
    "##### Métodos"
   ]
  },
  {
   "cell_type": "code",
   "execution_count": 378,
   "metadata": {},
   "outputs": [
    {
     "output_type": "execute_result",
     "data": {
      "text/plain": "dict_keys(['chave1', 'chave2', 'novo_elem', 'flex1', 'flex2', 'nested'])"
     },
     "metadata": {},
     "execution_count": 378
    }
   ],
   "source": [
    "# Métodos para pegar uma lista com todas as chaves\n",
    "d.keys()"
   ]
  },
  {
   "cell_type": "code",
   "execution_count": 379,
   "metadata": {},
   "outputs": [
    {
     "output_type": "execute_result",
     "data": {
      "text/plain": "dict_values(['valor1', 'IFG', 'new', 1, [1, 2, 3], {'subchave': 'valor'}])"
     },
     "metadata": {},
     "execution_count": 379
    }
   ],
   "source": [
    "# Método para pegar os valores\n",
    "d.values()"
   ]
  },
  {
   "cell_type": "code",
   "execution_count": 380,
   "metadata": {},
   "outputs": [
    {
     "output_type": "execute_result",
     "data": {
      "text/plain": "dict_items([('chave1', 'valor1'), ('chave2', 'IFG'), ('novo_elem', 'new'), ('flex1', 1), ('flex2', [1, 2, 3]), ('nested', {'subchave': 'valor'})])"
     },
     "metadata": {},
     "execution_count": 380
    }
   ],
   "source": [
    "# Métodos para retornar os itens em uma lista de associação (AList)\n",
    "d.items()"
   ]
  },
  {
   "cell_type": "markdown",
   "metadata": {},
   "source": [
    "# Por hoje é só."
   ]
  }
 ],
 "metadata": {
  "kernelspec": {
   "display_name": "Python 3",
   "language": "python",
   "name": "python3"
  },
  "language_info": {
   "codemirror_mode": {
    "name": "ipython",
    "version": 3
   },
   "file_extension": ".py",
   "mimetype": "text/x-python",
   "name": "python",
   "nbconvert_exporter": "python",
   "pygments_lexer": "ipython3",
   "version": "3.8.5-final"
  }
 },
 "nbformat": 4,
 "nbformat_minor": 4
}