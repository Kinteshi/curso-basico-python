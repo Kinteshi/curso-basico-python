{
 "cells": [
  {
   "cell_type": "markdown",
   "metadata": {},
   "source": [
    "# Curso básico de Python\n",
    "Ministrado por: Jeferson Marques e João Victor Rocha"
   ]
  },
  {
   "cell_type": "markdown",
   "metadata": {},
   "source": [
    "## Módulo: Conceitos básicos do Python\n",
    "O Python é uma linguagem que preza pela simplicidade, flexibilidade e rapidez no desenvolvimento. A filosofia DRY (*Don't Repeat Yourself*) é difundida pela comunidade de programadores Python.  \n",
    "\n",
    "---\n",
    "\n",
    "Agora alguns pontos de entrada para o Python:  \n",
    "\n"
   ]
  },
  {
   "cell_type": "markdown",
   "metadata": {},
   "source": [
    "### Python é uma linguagem de programação interpretada, possui tipagem forte e dinâmica  \n",
    "No Python ao declarar uma variável não é necessário definir seu tipo devido a seu sistema de inferência de tipos e nem mesmo declarar antes de usar (em alguns casos, altamente dependente do problema que se quer resolver). Abaixo um exemplo de como declarar uma variável:"
   ]
  },
  {
   "cell_type": "code",
   "execution_count": 14,
   "metadata": {
    "tags": []
   },
   "outputs": [
    {
     "output_type": "stream",
     "name": "stdout",
     "text": "10\n<class 'int'>\n"
    }
   ],
   "source": [
    "var = 10\n",
    "print(var)\n",
    "print(type(var))"
   ]
  },
  {
   "cell_type": "markdown",
   "metadata": {
    "tags": []
   },
   "source": [
    "A declaração é feita ao somente dar um nome e atribuir um valor à variável. Uma forma de fazer a mesma declaração em C++ seria:\n",
    "  \n",
    "```int var = 10;```  \n",
    "\n",
    "> Note que também não é necessário colocar o `;` após uma linha ou comando.\n",
    "\n",
    "Em Python a declaração da variável passa pela inferência de tipo, que automaticamente atribui a ela o tipo que for mais adequado. Outro ponto importante é a tipagem dinâmica presente na linguagem. Um exemplo:"
   ]
  },
  {
   "cell_type": "code",
   "execution_count": 15,
   "metadata": {
    "tags": []
   },
   "outputs": [
    {
     "output_type": "stream",
     "name": "stdout",
     "text": "10\n<class 'int'>\nDez\n<class 'str'>\n"
    }
   ],
   "source": [
    "print(var)\n",
    "print(type(var))\n",
    "var = \"Dez\"\n",
    "print(var)\n",
    "print(type(var))"
   ]
  },
  {
   "cell_type": "markdown",
   "metadata": {},
   "source": [
    "Em linguagens com tipagem estática isso causaria um erro, mas não aqui. As variáveis assumem qualquer valor a qualquer momento independente do tipo de dado que se trata. Como tudo tem seu lado negativo: essa tratamento de variáveis pode causar confusão no código e levar a vários erros de tipo inesperados. Esses erros de tipo são causados pelo fato de que Python é uma linguagem de tipagem Forte. Isso implica que em Python não é possível fazer operações como a seguinte (que seria possível em JavaScript, por exemplo):"
   ]
  },
  {
   "cell_type": "code",
   "execution_count": 18,
   "metadata": {
    "tags": []
   },
   "outputs": [
    {
     "output_type": "error",
     "ename": "TypeError",
     "evalue": "unsupported operand type(s) for +: 'int' and 'str'",
     "traceback": [
      "\u001b[1;31m---------------------------------------------------------------------------\u001b[0m",
      "\u001b[1;31mTypeError\u001b[0m                                 Traceback (most recent call last)",
      "\u001b[1;32m<ipython-input-18-a513b428f60d>\u001b[0m in \u001b[0;36m<module>\u001b[1;34m\u001b[0m\n\u001b[1;32m----> 1\u001b[1;33m \u001b[0mprint\u001b[0m\u001b[1;33m(\u001b[0m\u001b[1;36m10\u001b[0m \u001b[1;33m+\u001b[0m \u001b[1;34m\"Dez\"\u001b[0m\u001b[1;33m)\u001b[0m\u001b[1;33m\u001b[0m\u001b[1;33m\u001b[0m\u001b[0m\n\u001b[0m",
      "\u001b[1;31mTypeError\u001b[0m: unsupported operand type(s) for +: 'int' and 'str'"
     ]
    }
   ],
   "source": [
    "print(10 + \"Dez\")"
   ]
  },
  {
   "cell_type": "markdown",
   "metadata": {},
   "source": [
    "Essa mensagem de erro diz: \"tipos de operando não suportados para '+': int e str\". O que é traduzido para: a operação de soma não aceita um inteiro e uma string. Generalizando mais: a operação de soma não aceita tipos diferentes devido a tipagem forte. Essa operação não sabe lidar com dois tipos diferentes, mas sabe lidar com strings:"
   ]
  },
  {
   "cell_type": "code",
   "execution_count": 23,
   "metadata": {},
   "outputs": [
    {
     "output_type": "execute_result",
     "data": {
      "text/plain": "'Eu consigo somar Strings'"
     },
     "metadata": {},
     "execution_count": 23
    }
   ],
   "source": [
    "\"Eu consigo somar\" + \" \" + \"Strings\""
   ]
  },
  {
   "cell_type": "markdown",
   "metadata": {},
   "source": [
    "## Módulo: Tipos do Python! \n",
    "\n",
    "Em Python existem os seguintes tipos elementares para a linguagem:\n",
    "- str \n",
    "- int\n",
    "- float\n",
    "- bool\n",
    "\n",
    "Vamos começar vendo como trabalhar com os tipos numéricos do Python!"
   ]
  },
  {
   "cell_type": "markdown",
   "metadata": {},
   "source": [
    "### Numéricos\n",
    "\n",
    "Existem dois tipos numéricos que são os principais usados em Python `int` e `float`. Um exemplo na tabela abaixo.\n",
    "\n",
    "|                        | Numeric |\n",
    "|------------------------|---------|\n",
    "| 1, 2, 10, 100, 1000    | int     |\n",
    "| 0.1, 2.5, 100.1, 0.001 | float   |"
   ]
  },
  {
   "cell_type": "markdown",
   "metadata": {},
   "source": [
    "#### Operações Aritméticas"
   ]
  },
  {
   "cell_type": "code",
   "execution_count": 27,
   "metadata": {},
   "outputs": [
    {
     "output_type": "execute_result",
     "data": {
      "text/plain": "15"
     },
     "metadata": {},
     "execution_count": 27
    }
   ],
   "source": [
    "# Soma\n",
    "10 + 5"
   ]
  },
  {
   "cell_type": "code",
   "execution_count": 28,
   "metadata": {},
   "outputs": [
    {
     "output_type": "execute_result",
     "data": {
      "text/plain": "5"
     },
     "metadata": {},
     "execution_count": 28
    }
   ],
   "source": [
    "# Subtração\n",
    "10 - 5"
   ]
  },
  {
   "cell_type": "code",
   "execution_count": 30,
   "metadata": {},
   "outputs": [
    {
     "output_type": "execute_result",
     "data": {
      "text/plain": "5.0"
     },
     "metadata": {},
     "execution_count": 30
    }
   ],
   "source": [
    "# Multiplicação\n",
    "0.5 * 10"
   ]
  },
  {
   "cell_type": "code",
   "execution_count": 31,
   "metadata": {},
   "outputs": [
    {
     "output_type": "execute_result",
     "data": {
      "text/plain": "5.0"
     },
     "metadata": {},
     "execution_count": 31
    }
   ],
   "source": [
    "# Divisão\n",
    "10 / 2"
   ]
  },
  {
   "cell_type": "code",
   "execution_count": 42,
   "metadata": {},
   "outputs": [
    {
     "output_type": "execute_result",
     "data": {
      "text/plain": "2"
     },
     "metadata": {},
     "execution_count": 42
    }
   ],
   "source": [
    "# Divisão inteira\n",
    "11 // 4"
   ]
  },
  {
   "cell_type": "code",
   "execution_count": 41,
   "metadata": {},
   "outputs": [
    {
     "output_type": "execute_result",
     "data": {
      "text/plain": "3"
     },
     "metadata": {},
     "execution_count": 41
    }
   ],
   "source": [
    "# Módulo ou Resto\n",
    "11 % 4"
   ]
  },
  {
   "cell_type": "code",
   "execution_count": 43,
   "metadata": {},
   "outputs": [
    {
     "output_type": "execute_result",
     "data": {
      "text/plain": "100"
     },
     "metadata": {},
     "execution_count": 43
    }
   ],
   "source": [
    "# Potência\n",
    "10 ** 2"
   ]
  },
  {
   "cell_type": "markdown",
   "metadata": {},
   "source": [
    "É possível fazer raízes dessa forma, também:"
   ]
  },
  {
   "cell_type": "code",
   "execution_count": 46,
   "metadata": {},
   "outputs": [
    {
     "output_type": "execute_result",
     "data": {
      "text/plain": "10.0"
     },
     "metadata": {},
     "execution_count": 46
    }
   ],
   "source": [
    "# Raiz quadrada\n",
    "100 ** 0.5"
   ]
  },
  {
   "cell_type": "code",
   "execution_count": 47,
   "metadata": {},
   "outputs": [
    {
     "output_type": "execute_result",
     "data": {
      "text/plain": "24"
     },
     "metadata": {},
     "execution_count": 47
    }
   ],
   "source": [
    "# Ordem de Operações segue o que normalmente acontece na matemática\n",
    "\n",
    "10 + 2 * 2 + 10"
   ]
  },
  {
   "cell_type": "code",
   "execution_count": 48,
   "metadata": {},
   "outputs": [
    {
     "output_type": "execute_result",
     "data": {
      "text/plain": "144"
     },
     "metadata": {},
     "execution_count": 48
    }
   ],
   "source": [
    "# Usar parênteses se o desejo for uma ordem diferente\n",
    "(10 + 2) * (2 + 10)"
   ]
  },
  {
   "cell_type": "code",
   "execution_count": null,
   "metadata": {},
   "outputs": [],
   "source": []
  }
 ],
 "metadata": {
  "kernelspec": {
   "display_name": "Python 3",
   "language": "python",
   "name": "python3"
  },
  "language_info": {
   "codemirror_mode": {
    "name": "ipython",
    "version": 3
   },
   "file_extension": ".py",
   "mimetype": "text/x-python",
   "name": "python",
   "nbconvert_exporter": "python",
   "pygments_lexer": "ipython3",
   "version": "3.8.5-final"
  }
 },
 "nbformat": 4,
 "nbformat_minor": 4
}